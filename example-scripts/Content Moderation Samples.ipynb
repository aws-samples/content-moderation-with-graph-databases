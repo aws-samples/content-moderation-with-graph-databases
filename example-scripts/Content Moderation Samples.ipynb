{
 "cells": [
  {
   "cell_type": "markdown",
   "metadata": {},
   "source": [
    "# Full View\n",
    "Example Query showing the full tree, including players, game, abuse and transactions:"
   ]
  },
  {
   "cell_type": "code",
   "execution_count": null,
   "metadata": {},
   "outputs": [],
   "source": [
    "my_node_labels = '{\"game\":\"gameid\",\"player\":\"playerid\",\"transaction\":\"transactionid\",\"abuse\":\"abusetype\"}'\n",
    "my_edge_labels = '{\"wasPlayedBy\":\"duration\",\"played\":\"duration\",\"wasabusive\":\"wasabusive\"}'\n",
    "my_node_labels2 = '{\"game\":\"gameid\",\"player\":\"playerid\",\"transaction\":\"transactionid\",\"abuse\":\"abusecontent\"}'\n",
    "my_edge_labels2 = '{\"wasPlayedBy\":\"duration\",\"played\":\"duration\",\"wasabusive\":\"wasabusive\"}'\n",
    "\n"
   ]
  },
  {
   "cell_type": "code",
   "execution_count": null,
   "metadata": {
    "scrolled": false
   },
   "outputs": [],
   "source": [
    "%%gremlin -p v,oute,inv,oute,inv -d $my_node_labels -l 20 -de $my_edge_labels\n",
    "g.V().has('gameid').outE().inV().inE().outV().path().by(valueMap(true)).limit(5000)"
   ]
  },
  {
   "cell_type": "markdown",
   "metadata": {},
   "source": [
    "# Abuse -> Players -> Games\n",
    "Map Abuse to the Game and Players then to the games that are being played:"
   ]
  },
  {
   "cell_type": "code",
   "execution_count": null,
   "metadata": {
    "scrolled": false
   },
   "outputs": [],
   "source": [
    "%%gremlin -p v,e,v,e,v -d $my_node_labels -l 20 -de $my_edge_labels\n",
    "g.V().hasLabel('abuse').bothE().bothV().hasLabel('player').bothE().bothV().hasLabel('game').path().by(valueMap(true))"
   ]
  },
  {
   "cell_type": "markdown",
   "metadata": {},
   "source": [
    "# Zoom in on a specific Players map\n",
    "Show a player, their transactions, games and any abuse made or saw in other games"
   ]
  },
  {
   "cell_type": "code",
   "execution_count": null,
   "metadata": {
    "scrolled": false
   },
   "outputs": [],
   "source": [
    "%%gremlin -p v,oute,inv,oute,inv -d $my_node_labels -l 20 -de $my_edge_labels\n",
    "g.V('p25').outE().inV().outE().inV().path().by(valueMap(true))"
   ]
  },
  {
   "cell_type": "markdown",
   "metadata": {},
   "source": [
    "# One Players actions\n",
    "Show a player, their transactions, games and any abuse they made"
   ]
  },
  {
   "cell_type": "code",
   "execution_count": null,
   "metadata": {
    "scrolled": false
   },
   "outputs": [],
   "source": [
    "%%gremlin -p v,e,v -d $my_node_labels2 -l 20 -de $my_edge_labels2\n",
    "g.V('p25').bothE().bothV().path().by(valueMap(true))"
   ]
  }
 ],
 "metadata": {
  "kernelspec": {
   "display_name": ".venv",
   "language": "python",
   "name": "python3"
  },
  "language_info": {
   "codemirror_mode": {
    "name": "ipython",
    "version": 3
   },
   "file_extension": ".py",
   "mimetype": "text/x-python",
   "name": "python",
   "nbconvert_exporter": "python",
   "pygments_lexer": "ipython3",
   "version": "3.10.8 (main, Dec 21 2022, 10:07:29) [Clang 14.0.0 (clang-1400.0.29.202)]"
  },
  "vscode": {
   "interpreter": {
    "hash": "004d3ee4019a10c6cb4b6351c08253db87d76b3d31b5722493d42882798fdbf7"
   }
  }
 },
 "nbformat": 4,
 "nbformat_minor": 2
}
